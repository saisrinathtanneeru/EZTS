{
 "cells": [
  {
   "cell_type": "code",
   "execution_count": 31,
   "id": "a1667204",
   "metadata": {},
   "outputs": [
    {
     "name": "stdout",
     "output_type": "stream",
     "text": [
      "6\n",
      "1 4 4 6 5 3 1\n",
      "4\n"
     ]
    }
   ],
   "source": [
    "#Find All Duplicate Elements in Array\n",
    "n=int(input())\n",
    "l=list(map(int,input().split()))[:n]\n",
    "d=[]\n",
    "for i in range(n):\n",
    "    if l.count(l[i])>1:\n",
    "        if l[i] in d:\n",
    "            continue\n",
    "        else:\n",
    "            d.append(l[i])\n",
    "\n",
    "for i in d:\n",
    "    print(i)"
   ]
  },
  {
   "cell_type": "code",
   "execution_count": 37,
   "id": "16a1b011",
   "metadata": {},
   "outputs": [
    {
     "name": "stdout",
     "output_type": "stream",
     "text": [
      "7\n",
      "1 4 4 6 10 10 3 9\n",
      "1 6 3 "
     ]
    }
   ],
   "source": [
    "#Find All Unique Elements in Array\n",
    "n=int(input())\n",
    "l=list(map(int,input().split()))[:n]\n",
    "for i in l:\n",
    "    if l.count(i)==1:\n",
    "        print(i,end=\" \")"
   ]
  },
  {
   "cell_type": "code",
   "execution_count": 62,
   "id": "d7ddd40c",
   "metadata": {},
   "outputs": [
    {
     "name": "stdout",
     "output_type": "stream",
     "text": [
      "2\n",
      "7\n",
      "0\n",
      "14\n",
      "1\n"
     ]
    }
   ],
   "source": [
    "#Cooking Competiton\n",
    "t=int(input())\n",
    "for i in range(t):\n",
    "    n=int(input())\n",
    "    even,odd=0,0\n",
    "    for i in range(1,n+1):\n",
    "        if n%i==0:\n",
    "            if i%2==0:\n",
    "                even+=1\n",
    "            else:\n",
    "                odd+=1\n",
    "\n",
    "    if even==odd:\n",
    "        print(1)\n",
    "    else:\n",
    "        print(0)"
   ]
  },
  {
   "cell_type": "code",
   "execution_count": 66,
   "id": "06547907",
   "metadata": {},
   "outputs": [
    {
     "name": "stdout",
     "output_type": "stream",
     "text": [
      "2\n",
      "7\n",
      "0\n",
      "14\n",
      "1\n"
     ]
    }
   ],
   "source": [
    "#Cooking Competition\n",
    "def chef(t):\n",
    "    if t==0:\n",
    "        return\n",
    "    else:\n",
    "        n=int(input())\n",
    "        even,odd=0,0\n",
    "        for i in range(1,n+1):\n",
    "            if n%i==0:\n",
    "                if i%2==0:\n",
    "                    even+=1\n",
    "                else:\n",
    "                    odd+=1\n",
    "\n",
    "        if even==odd:\n",
    "            print(1)\n",
    "        else:\n",
    "            print(0)\n",
    "    \n",
    "    chef(t-1)\n",
    "    \n",
    "t=int(input())\n",
    "chef(t)"
   ]
  },
  {
   "cell_type": "code",
   "execution_count": 69,
   "id": "77f0f3a5",
   "metadata": {},
   "outputs": [
    {
     "name": "stdout",
     "output_type": "stream",
     "text": [
      "1\n",
      "4 20\n",
      "18 20 21 9\n",
      "100 200 150 600\n",
      "350\n"
     ]
    }
   ],
   "source": [
    "#Cost of groceries\n",
    "def Cost(t):\n",
    "    if t==0:\n",
    "        return \n",
    "    else:\n",
    "        n,x=map(int,input().split())\n",
    "        fresh=list(map(int,input().split()))\n",
    "        cost=list(map(int,input().split()))\n",
    "        total_cost=0\n",
    "        for i in range(n):\n",
    "            if fresh[i]>=x:\n",
    "                total_cost+=cost[i]\n",
    "        print(total_cost)\n",
    "    Cost(t-1)\n",
    "    \n",
    "t=int(input())\n",
    "Cost(t)"
   ]
  },
  {
   "cell_type": "code",
   "execution_count": 75,
   "id": "871b1ba4",
   "metadata": {},
   "outputs": [
    {
     "name": "stdout",
     "output_type": "stream",
     "text": [
      "25\n",
      "Not Prime\n"
     ]
    }
   ],
   "source": [
    "#Prime Number\n",
    "n=int(input())\n",
    "factors=[]\n",
    "if n==1:\n",
    "    print(\"Neither prime nor composite\")\n",
    "else:\n",
    "    for i in range(1,n+1):\n",
    "        if n%i==0:\n",
    "            factors.append(i)\n",
    "\n",
    "    if len(factors)>2:\n",
    "        print(\"Not Prime\")\n",
    "    else:\n",
    "        print(\"Prime\")"
   ]
  },
  {
   "cell_type": "code",
   "execution_count": 84,
   "id": "2843ef22",
   "metadata": {},
   "outputs": [
    {
     "name": "stdout",
     "output_type": "stream",
     "text": [
      "1\n",
      "3\n",
      "100 200 300\n",
      "200 300 100\n",
      "2\n"
     ]
    }
   ],
   "source": [
    "#Running Compare\n",
    "def compare(t):\n",
    "    if t==0:\n",
    "        return\n",
    "    else:\n",
    "        n=int(input())\n",
    "        both_happy=0\n",
    "        alice=list(map(int,input().split()))\n",
    "        bob=list(map(int,input().split()))\n",
    "        for i in range(n):\n",
    "            if bob[i]<=(2*alice[i]) and alice[i]<=(2*bob[i]):\n",
    "                both_happy+=1\n",
    "        print(both_happy)\n",
    "    \n",
    "    compare(t-1)\n",
    "\n",
    "t=int(input())\n",
    "compare(t)"
   ]
  },
  {
   "cell_type": "code",
   "execution_count": 86,
   "id": "29a79e39",
   "metadata": {},
   "outputs": [
    {
     "name": "stdout",
     "output_type": "stream",
     "text": [
      "30\n",
      "6\n",
      "28\n"
     ]
    }
   ],
   "source": [
    "#Even Perfect Numbers\n",
    "n=int(input())\n",
    "for i in range(1,n+1):\n",
    "    factors=[]\n",
    "    if i%2==0:\n",
    "        for j in range(1,i):\n",
    "            if i%j==0:\n",
    "                factors.append(j)\n",
    "        if sum(factors)==i:\n",
    "            print(i)"
   ]
  }
 ],
 "metadata": {
  "kernelspec": {
   "display_name": "Python 3 (ipykernel)",
   "language": "python",
   "name": "python3"
  },
  "language_info": {
   "codemirror_mode": {
    "name": "ipython",
    "version": 3
   },
   "file_extension": ".py",
   "mimetype": "text/x-python",
   "name": "python",
   "nbconvert_exporter": "python",
   "pygments_lexer": "ipython3",
   "version": "3.9.13"
  }
 },
 "nbformat": 4,
 "nbformat_minor": 5
}
