{
 "cells": [
  {
   "cell_type": "code",
   "execution_count": 16,
   "id": "0c45bb8e",
   "metadata": {},
   "outputs": [
    {
     "name": "stdout",
     "output_type": "stream",
     "text": [
      "Enter the test cases: 4\n",
      "Enter no.of glasses: 4\n",
      "60\n",
      "Enter no.of glasses: 3\n",
      "45\n",
      "Enter no.of glasses: 5\n",
      "75\n",
      "Enter no.of glasses: 10\n",
      "150\n"
     ]
    }
   ],
   "source": [
    "#Sugarcane Juice Business\n",
    "def sugarcane(n):\n",
    "    income=50*n\n",
    "    print(int(income-income*0.7))\n",
    "\n",
    "def main(t):\n",
    "    if t==0:\n",
    "        return\n",
    "    else:\n",
    "        n=int(input(\"Enter no.of glasses: \"))\n",
    "        sugarcane(n)\n",
    "    main(t-1)\n",
    "    \n",
    "\n",
    "t=int(input(\"Enter the test cases: \"))\n",
    "main(t)"
   ]
  },
  {
   "cell_type": "code",
   "execution_count": 19,
   "id": "04b61e01",
   "metadata": {},
   "outputs": [
    {
     "name": "stdout",
     "output_type": "stream",
     "text": [
      "100 20\n",
      "90\n"
     ]
    }
   ],
   "source": [
    "#Watching the Movie\n",
    "def watchMovie(x,y):\n",
    "    print((x-y)+(y//2))\n",
    "\n",
    "x,y=map(int,input().split())\n",
    "watchMovie(x,y)"
   ]
  },
  {
   "cell_type": "code",
   "execution_count": 3,
   "id": "8342153d",
   "metadata": {},
   "outputs": [
    {
     "name": "stdout",
     "output_type": "stream",
     "text": [
      "1\n",
      "443544\n",
      "4\n"
     ]
    }
   ],
   "source": [
    "#Lucky Four\n",
    "def func(n,c=0):\n",
    "    if n==0:\n",
    "        print(c)\n",
    "        return\n",
    "    else:\n",
    "        r=n%10\n",
    "        if r==4:\n",
    "            c+=1\n",
    "        n=n//10\n",
    "    func(n,c)\n",
    "\n",
    "\n",
    "\n",
    "def main(t):\n",
    "    if t==0:\n",
    "        return\n",
    "    else:\n",
    "        n=int(input())\n",
    "        func(n)\n",
    "    main(t-1)\n",
    "    \n",
    "t=int(input())\n",
    "main(t)"
   ]
  },
  {
   "cell_type": "code",
   "execution_count": 4,
   "id": "b1ab3b84",
   "metadata": {},
   "outputs": [
    {
     "name": "stdout",
     "output_type": "stream",
     "text": [
      "5\n",
      "120\n"
     ]
    }
   ],
   "source": [
    "#Factorial using for loop\n",
    "def fact(n):\n",
    "    ans=1\n",
    "    for i in range(2,n+1):\n",
    "        ans=ans*i\n",
    "    return ans\n",
    "\n",
    "n=int(input())\n",
    "print(fact(n))"
   ]
  },
  {
   "cell_type": "code",
   "execution_count": 5,
   "id": "7651ce32",
   "metadata": {},
   "outputs": [
    {
     "name": "stdout",
     "output_type": "stream",
     "text": [
      "4\n",
      "24\n"
     ]
    }
   ],
   "source": [
    "#Factorial using while loop\n",
    "def fact2(n):\n",
    "    ans=1\n",
    "    while n>1:\n",
    "        ans=ans*n\n",
    "        n-=1\n",
    "    return ans\n",
    "\n",
    "n2=int(input())\n",
    "print(fact2(n2))"
   ]
  },
  {
   "cell_type": "code",
   "execution_count": 6,
   "id": "dff125da",
   "metadata": {},
   "outputs": [
    {
     "name": "stdout",
     "output_type": "stream",
     "text": [
      "6\n",
      "720\n"
     ]
    }
   ],
   "source": [
    "#Factorial using recursion\n",
    "def fact3(n):\n",
    "    if n==1:\n",
    "        return 1\n",
    "    else:\n",
    "        return n*fact(n-1)\n",
    "\n",
    "n3=int(input())\n",
    "print(fact3(n3))"
   ]
  },
  {
   "cell_type": "code",
   "execution_count": 14,
   "id": "fc6f6baf",
   "metadata": {},
   "outputs": [],
   "source": [
    "#Append Three\n",
    "def three(n):\n",
    "    temp=n\n",
    "    l=0\n",
    "    while temp>0:\n",
    "        l+=1\n",
    "        temp=temp//10\n",
    "    n=(3*pow(10,l))+n\n",
    "    n=n*10+3\n",
    "    return n\n"
   ]
  },
  {
   "cell_type": "code",
   "execution_count": 17,
   "id": "c8f701eb",
   "metadata": {},
   "outputs": [
    {
     "data": {
      "text/plain": [
       "399893"
      ]
     },
     "execution_count": 17,
     "metadata": {},
     "output_type": "execute_result"
    }
   ],
   "source": [
    "three(9989)"
   ]
  },
  {
   "cell_type": "code",
   "execution_count": 20,
   "id": "b5d9b684",
   "metadata": {},
   "outputs": [],
   "source": [
    "#Append Three\n",
    "def three(n):\n",
    "    \n",
    "    temp=n\n",
    "    l=0\n",
    "    while temp>0:\n",
    "        l+=1\n",
    "        temp=temp//10\n",
    "    power=1\n",
    "    while l>0:\n",
    "        power=power*10\n",
    "        l-=1\n",
    "    n=(3*power)+n\n",
    "    n=n*10+3\n",
    "    return n\n"
   ]
  },
  {
   "cell_type": "code",
   "execution_count": 21,
   "id": "7738d105",
   "metadata": {},
   "outputs": [
    {
     "data": {
      "text/plain": [
       "32343"
      ]
     },
     "execution_count": 21,
     "metadata": {},
     "output_type": "execute_result"
    }
   ],
   "source": [
    "three(234)"
   ]
  },
  {
   "cell_type": "code",
   "execution_count": null,
   "id": "eee8ba03",
   "metadata": {},
   "outputs": [],
   "source": []
  }
 ],
 "metadata": {
  "kernelspec": {
   "display_name": "Python 3 (ipykernel)",
   "language": "python",
   "name": "python3"
  },
  "language_info": {
   "codemirror_mode": {
    "name": "ipython",
    "version": 3
   },
   "file_extension": ".py",
   "mimetype": "text/x-python",
   "name": "python",
   "nbconvert_exporter": "python",
   "pygments_lexer": "ipython3",
   "version": "3.9.13"
  }
 },
 "nbformat": 4,
 "nbformat_minor": 5
}
