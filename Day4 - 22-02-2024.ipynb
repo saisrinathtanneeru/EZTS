{
 "cells": [
  {
   "cell_type": "code",
   "execution_count": 22,
   "id": "428f72a6",
   "metadata": {},
   "outputs": [
    {
     "name": "stdout",
     "output_type": "stream",
     "text": [
      "The quick brown fox jumps over the lazy dog 123\n",
      "Panagram\n"
     ]
    }
   ],
   "source": [
    "#Panagrams\n",
    "s=input()\n",
    "a=set(s)\n",
    "c=0\n",
    "alphabets=['a','b','c','d','e','f','g','h','i','j','k','l','m','n','o','p','q','r','s','t','u','v','w','x','y','z']\n",
    "capitals=['A','B','C','D','E','F','G','H','I','J','K','L','M','N','O','P','Q','R','S','T','U','V','W','X','Y','Z']\n",
    "for i in range(26):\n",
    "    if (alphabets[i] in a) or (capitals[i] in a):\n",
    "        c+=1\n",
    "if c==26:\n",
    "    print(\"Panagram\")\n",
    "else:\n",
    "    print(\"Not Panagram\")"
   ]
  },
  {
   "cell_type": "code",
   "execution_count": 33,
   "id": "cf5a07c0",
   "metadata": {},
   "outputs": [
    {
     "name": "stdout",
     "output_type": "stream",
     "text": [
      "the quick brown fox jumps over the lazy dog 123\n",
      "Panagram\n"
     ]
    }
   ],
   "source": [
    "#Panagrams\n",
    "s=input()\n",
    "d={}\n",
    "numbers=['0','1','2','3','4','5','6','7','8','9']\n",
    "for i in s:\n",
    "    if i!=\" \" and i not in numbers:\n",
    "        if i in  d:\n",
    "            continue\n",
    "        else:\n",
    "            d[i]=1\n",
    "\n",
    "if len(d)==26:\n",
    "    print(\"Panagram\")\n",
    "else:\n",
    "    print(\"Not Panagram\")"
   ]
  },
  {
   "cell_type": "code",
   "execution_count": 36,
   "id": "f32a5a44",
   "metadata": {},
   "outputs": [
    {
     "name": "stdout",
     "output_type": "stream",
     "text": [
      "The quick brown fox jumps over the lazy dog 123\n",
      "Panagram\n"
     ]
    }
   ],
   "source": [
    "#Panagrams\n",
    "s=input()\n",
    "d={}\n",
    "alphabets=['a','b','c','d','e','f','g','h','i','j','k','l','m','n','o','p','q','r','s','t','u','v','w','x','y','z']\n",
    "capitals=['A','B','C','D','E','F','G','H','I','J','K','L','M','N','O','P','Q','R','S','T','U','V','W','X','Y','Z']\n",
    "for i in range(26):\n",
    "    if (alphabets[i] in a) or (capitals[i] in a):\n",
    "        d[i]=1\n",
    "        \n",
    "if len(d)==26:\n",
    "    print(\"Panagram\")\n",
    "else:\n",
    "    print(\"Not Panagram\")"
   ]
  },
  {
   "cell_type": "code",
   "execution_count": 37,
   "id": "88bc6c5e",
   "metadata": {},
   "outputs": [
    {
     "name": "stdout",
     "output_type": "stream",
     "text": [
      "The quick brown fox jumps over the lazy dog 123\n",
      "Panagram\n"
     ]
    }
   ],
   "source": [
    "#Panagrams\n",
    "s=input()\n",
    "c=0\n",
    "alphabets=['a','b','c','d','e','f','g','h','i','j','k','l','m','n','o','p','q','r','s','t','u','v','w','x','y','z']\n",
    "capitals=['A','B','C','D','E','F','G','H','I','J','K','L','M','N','O','P','Q','R','S','T','U','V','W','X','Y','Z']\n",
    "for i in range(26):\n",
    "    if (alphabets[i] in a) or (capitals[i] in a):\n",
    "        c+=1\n",
    "if c==26:\n",
    "    print(\"Panagram\")\n",
    "else:\n",
    "    print(\"Panagram\")"
   ]
  },
  {
   "cell_type": "code",
   "execution_count": 55,
   "id": "9b79074d",
   "metadata": {},
   "outputs": [
    {
     "name": "stdout",
     "output_type": "stream",
     "text": [
      "2\n",
      "algorithms\n",
      ".\n",
      "smartinterviews\n",
      "s\n"
     ]
    }
   ],
   "source": [
    "#First Repeating Character\n",
    "t=int(input())\n",
    "for i in range(t):\n",
    "    a=\".\"\n",
    "    s=input()\n",
    "    d={}\n",
    "    for i in s:\n",
    "        if i in d:\n",
    "            d[i]+=1\n",
    "        else:\n",
    "            d[i]=1\n",
    "    for i in d:\n",
    "        if d[i]>1:\n",
    "            a=i\n",
    "            break\n",
    "\n",
    "    print(a)"
   ]
  },
  {
   "cell_type": "code",
   "execution_count": 68,
   "id": "df4f8fbb",
   "metadata": {},
   "outputs": [
    {
     "name": "stdout",
     "output_type": "stream",
     "text": [
      "3\n",
      "ganesh 1234\n",
      "karthik 2344\n",
      "gowtham 69669\n",
      "karthik\n",
      "karthik=2344\n",
      "gowtham\n",
      "gowtham=69669\n",
      "ink\n",
      "Not found\n",
      "\n"
     ]
    }
   ],
   "source": [
    "#Dict and Map\n",
    "n=int(input())\n",
    "d={}\n",
    "for i in range(n):\n",
    "    l=list(map(str,input().split()))\n",
    "    d[l[0]]=l[1]\n",
    "\n",
    "def find(name):\n",
    "    if d.get(name)!=None:\n",
    "        print(name+\"=\"+d[name])\n",
    "    else:\n",
    "        print(\"Not found\")\n",
    "\n",
    "name=input()\n",
    "while name:\n",
    "    find(name)\n",
    "    name=input()"
   ]
  },
  {
   "cell_type": "code",
   "execution_count": 81,
   "id": "1f3dfbc5",
   "metadata": {},
   "outputs": [
    {
     "name": "stdout",
     "output_type": "stream",
     "text": [
      "10\n",
      "animal\n",
      "lake\n",
      "lake\n",
      "lake\n",
      "zebra\n",
      "zebra\n",
      "zebra\n",
      "kite\n",
      "animal\n",
      "jam\n",
      "zebra 3\n"
     ]
    }
   ],
   "source": [
    "#Frequent Word\n",
    "n=int(input())\n",
    "d={}\n",
    "\n",
    "for i in range(n):\n",
    "    word=input()\n",
    "    if word in d:\n",
    "        d[word]+=1\n",
    "    else:\n",
    "        d[word]=1\n",
    "\n",
    "large=max(d.values())\n",
    "\n",
    "\n",
    "same=[i for i in d if d[i]==large]\n",
    "\n",
    "print(f\"{max(same)} {large}\")"
   ]
  },
  {
   "cell_type": "code",
   "execution_count": 82,
   "id": "64931bb7",
   "metadata": {},
   "outputs": [
    {
     "name": "stdout",
     "output_type": "stream",
     "text": [
      "2\n",
      "2 4\n",
      "1 6102\n",
      "2 6102\n",
      "1 6103\n",
      "2 6103\n",
      "Scenario #1: possible\n",
      "2 4\n",
      "1 6102\n",
      "1 6102\n",
      "2 6102\n",
      "2 6103\n",
      "Scenario #2: impossible\n"
     ]
    }
   ],
   "source": [
    "#Backup Data\n",
    "t=int(input())\n",
    "for a in range(t):\n",
    "    impossible=0\n",
    "    n,r=map(int,input().split())\n",
    "    d={}\n",
    "    for b in range(r):\n",
    "        i,c=map(int,input().split())\n",
    "        if c in d:\n",
    "            if i in d[c]:\n",
    "                impossible=1\n",
    "            else:\n",
    "                d[c].append(i)\n",
    "        else:\n",
    "            d[c]=[i]\n",
    "            \n",
    "    if impossible:\n",
    "        print(f\"Scenario #{a+1}: impossible\")\n",
    "    else:\n",
    "        print(f\"Scenario #{a+1}: possible\")"
   ]
  },
  {
   "cell_type": "code",
   "execution_count": 87,
   "id": "2bf178db",
   "metadata": {},
   "outputs": [
    {
     "name": "stdout",
     "output_type": "stream",
     "text": [
      "4\n",
      "a b\n",
      "a c\n",
      "a d\n",
      "b c\n",
      "b\n",
      "c\n"
     ]
    }
   ],
   "source": [
    "#Graph\n",
    "n=int(input())\n",
    "d={}\n",
    "for i in range(n):\n",
    "    src,dest=map(str,input().split())\n",
    "    if src in d:\n",
    "        d[src].append(dest)\n",
    "    else:\n",
    "        d[src]=[dest]\n",
    "    \n",
    "vertex=input()\n",
    "if vertex not in d:\n",
    "    print(\"None\")\n",
    "else:\n",
    "    if len(d[vertex]):\n",
    "        print(d[vertex][0])\n",
    "    else:\n",
    "        for i in range(len(d[vertex])):\n",
    "            print(d[vertex][i],end=\",\")"
   ]
  },
  {
   "cell_type": "code",
   "execution_count": 100,
   "id": "1134e822",
   "metadata": {},
   "outputs": [
    {
     "name": "stdout",
     "output_type": "stream",
     "text": [
      "4\n",
      "a b 100\n",
      "a c 50\n",
      "a d 200\n",
      "b c 200\n",
      "a\n",
      "a->c\n"
     ]
    }
   ],
   "source": [
    "#Weighted Graph\n",
    "n=int(input())\n",
    "d={}\n",
    "for i in range(n):\n",
    "    src,dest,dist=map(str,input().split())\n",
    "    dist=int(dist)\n",
    "    if src in d:\n",
    "        d[src].append([dist,dest])\n",
    "    else:\n",
    "        d[src]=[[dist,dest]]\n",
    "\n",
    "vertex=input()\n",
    "if vertex not in d:\n",
    "    print(\"None\")\n",
    "else:\n",
    "    d[vertex].sort()\n",
    "    print(f\"{vertex}->{d[vertex][0][1]}\")"
   ]
  },
  {
   "cell_type": "code",
   "execution_count": 105,
   "id": "338225ad",
   "metadata": {},
   "outputs": [],
   "source": []
  },
  {
   "cell_type": "code",
   "execution_count": null,
   "id": "1a0109c7",
   "metadata": {},
   "outputs": [],
   "source": []
  }
 ],
 "metadata": {
  "kernelspec": {
   "display_name": "Python 3 (ipykernel)",
   "language": "python",
   "name": "python3"
  },
  "language_info": {
   "codemirror_mode": {
    "name": "ipython",
    "version": 3
   },
   "file_extension": ".py",
   "mimetype": "text/x-python",
   "name": "python",
   "nbconvert_exporter": "python",
   "pygments_lexer": "ipython3",
   "version": "3.9.13"
  }
 },
 "nbformat": 4,
 "nbformat_minor": 5
}
